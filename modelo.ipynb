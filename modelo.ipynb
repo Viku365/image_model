{
 "cells": [
  {
   "cell_type": "markdown",
   "id": "f8bca4f8",
   "metadata": {},
   "source": [
    "# Reconocimiento de Dígitos con CNN y MNIST\n",
    "\n",
    "Este notebook implementa un sistema completo de reconocimiento de dígitos manuscritos utilizando redes neuronales convolucionales (CNN) con el dataset MNIST. Se incluye:\n",
    "- Análisis exploratorio y visualización de datos\n",
    "- Preprocesamiento de imágenes\n",
    "- Entrenamiento de un modelo base y de un modelo mejorado\n",
    "- Visualización de curvas de entrenamiento\n",
    "- Matriz de confusión y análisis de errores\n",
    "- Guardado del modelo\n",
    "- Celda interactiva para probar el modelo con una imagen PNG\n",
    "\n",
    "El notebook está orientado a la ejecución en entorno local."
   ]
  },
  {
   "cell_type": "code",
   "execution_count": null,
   "id": "211e90d0",
   "metadata": {},
   "outputs": [],
   "source": [
    "import numpy as np\n",
    "import matplotlib.pyplot as plt\n",
    "import seaborn as sns\n",
    "from sklearn.model_selection import train_test_split, KFold\n",
    "from sklearn.metrics import confusion_matrix, classification_report\n",
    "from tensorflow.keras.datasets import mnist\n",
    "from tensorflow.keras.utils import to_categorical\n",
    "from tensorflow.keras.models import Sequential, load_model\n",
    "from tensorflow.keras.layers import Conv2D, MaxPooling2D, Flatten, Dense, Dropout\n",
    "from tensorflow.keras.preprocessing.image import ImageDataGenerator\n",
    "import tensorflow as tf\n",
    "import os"
   ]
  },
  {
   "cell_type": "code",
   "execution_count": null,
   "id": "4f62d54e",
   "metadata": {},
   "outputs": [],
   "source": [
    "# Cargar dataset MNIST\n",
    "(x_train, y_train), (x_test, y_test) = mnist.load_data()\n",
    "\n",
    "# Normalizar imágenes a rango [0,1]\n",
    "x_train = x_train.astype('float32') / 255.0\n",
    "x_test = x_test.astype('float32') / 255.0\n",
    "\n",
    "# Redimensionar a (28,28,1)\n",
    "x_train = x_train.reshape(-1, 28, 28, 1)\n",
    "x_test = x_test.reshape(-1, 28, 28, 1)\n",
    "\n",
    "# Convertir etiquetas a one-hot\n",
    "y_train_cat = to_categorical(y_train, 10)\n",
    "y_test_cat = to_categorical(y_test, 10)\n",
    "\n",
    "# Dividir el set de entrenamiento en entrenamiento y validación\n",
    "# Usamos aproximadamente 50k para entrenamiento y 10k para validación (de los 60k originales)\n",
    "x_train_final, x_val, y_train_final, y_val = train_test_split(x_train, y_train_cat, test_size=0.166, stratify=y_train)"
   ]
  },
  {
   "cell_type": "code",
   "execution_count": null,
   "id": "94e22e64",
   "metadata": {},
   "outputs": [],
   "source": [
    "# Visualización: Mostrar 10 imágenes por cada dígito (0-9)\n",
    "fig, axes = plt.subplots(10, 10, figsize=(10, 10))\n",
    "for digit in range(10):\n",
    "    # Encontrar índices de ejemplos de cada dígito\n",
    "    idx = np.where(y_train == digit)[0][:10]\n",
    "    for j, i in enumerate(idx):\n",
    "        axes[digit, j].imshow(x_train[i].reshape(28,28), cmap='gray')\n",
    "        axes[digit, j].axis('off')\n",
    "plt.tight_layout()\n",
    "plt.show()"
   ]
  },
  {
   "cell_type": "code",
   "execution_count": null,
   "id": "8d7fbe67",
   "metadata": {},
   "outputs": [],
   "source": [
    "# Modelo Base: CNN sencilla\n",
    "model_base = Sequential([\n",
    "    Conv2D(32, (3,3), activation='relu', input_shape=(28,28,1)),\n",
    "    MaxPooling2D((2,2)),\n",
    "    Conv2D(64, (3,3), activation='relu'),\n",
    "    MaxPooling2D((2,2)),\n",
    "    Flatten(),\n",
    "    Dense(128, activation='relu'),\n",
    "    Dropout(0.5),\n",
    "    Dense(10, activation='softmax')\n",
    "])\n",
    "\n",
    "model_base.compile(optimizer='adam', loss='categorical_crossentropy', metrics=['accuracy'])\n",
    "\n",
    "# Entrenar modelo base\n",
    "history_base = model_base.fit(x_train_final, y_train_final, epochs=10, batch_size=64, validation_data=(x_val, y_val))"
   ]
  },
  {
   "cell_type": "code",
   "execution_count": null,
   "id": "a12f8b0a",
   "metadata": {},
   "outputs": [],
   "source": [
    "# Evaluar el modelo base en el conjunto de prueba\n",
    "test_loss_base, test_acc_base = model_base.evaluate(x_test, y_test_cat)\n",
    "print(f\"Precisión en test del modelo base: {test_acc_base:.4f}\")"
   ]
  },
  {
   "cell_type": "code",
   "execution_count": null,
   "id": "3eb7a35b",
   "metadata": {},
   "outputs": [],
   "source": [
    "# Modelo Mejorado: Agregamos una capa convolucional extra\n",
    "model_mejorado = Sequential([\n",
    "    Conv2D(32, (3,3), activation='relu', input_shape=(28,28,1)),\n",
    "    MaxPooling2D((2,2)),\n",
    "    Conv2D(64, (3,3), activation='relu'),\n",
    "    Conv2D(64, (3,3), activation='relu'),\n",
    "    MaxPooling2D((2,2)),\n",
    "    Flatten(),\n",
    "    Dense(128, activation='relu'),\n",
    "    Dropout(0.5),\n",
    "    Dense(10, activation='softmax')\n",
    "])\n",
    "\n",
    "model_mejorado.compile(optimizer='adam', loss='categorical_crossentropy', metrics=['accuracy'])\n",
    "\n",
    "# Entrenar modelo mejorado\n",
    "history_mejorado = model_mejorado.fit(x_train_final, y_train_final, epochs=10, batch_size=64, validation_data=(x_val, y_val))"
   ]
  },
  {
   "cell_type": "code",
   "execution_count": null,
   "id": "8e26428b",
   "metadata": {},
   "outputs": [],
   "source": [
    "# Evaluar el modelo mejorado en el conjunto de prueba\n",
    "test_loss_mej, test_acc_mej = model_mejorado.evaluate(x_test, y_test_cat)\n",
    "print(f\"Precisión en test del modelo mejorado: {test_acc_mej:.4f}\")"
   ]
  },
  {
   "cell_type": "code",
   "execution_count": null,
   "id": "e113780a",
   "metadata": {},
   "outputs": [],
   "source": [
    "# Gráficas de entrenamiento: Comparativa de curvas de exactitud y pérdida\n",
    "plt.figure(figsize=(14,5))\n",
    "\n",
    "# Curva de Exactitud\n",
    "plt.subplot(1,2,1)\n",
    "plt.plot(history_base.history['accuracy'], label='Train Base')\n",
    "plt.plot(history_base.history['val_accuracy'], label='Val Base')\n",
    "plt.plot(history_mejorado.history['accuracy'], label='Train Mejorado')\n",
    "plt.plot(history_mejorado.history['val_accuracy'], label='Val Mejorado')\n",
    "plt.title('Curva de Exactitud')\n",
    "plt.xlabel('Época')\n",
    "plt.ylabel('Exactitud')\n",
    "plt.legend()\n",
    "\n",
    "# Curva de Pérdida\n",
    "plt.subplot(1,2,2)\n",
    "plt.plot(history_base.history['loss'], label='Train Base')\n",
    "plt.plot(history_base.history['val_loss'], label='Val Base')\n",
    "plt.plot(history_mejorado.history['loss'], label='Train Mejorado')\n",
    "plt.plot(history_mejorado.history['val_loss'], label='Val Mejorado')\n",
    "plt.title('Curva de Pérdida')\n",
    "plt.xlabel('Época')\n",
    "plt.ylabel('Pérdida')\n",
    "plt.legend()\n",
    "\n",
    "plt.show()"
   ]
  },
  {
   "cell_type": "code",
   "execution_count": null,
   "id": "18a81fd8",
   "metadata": {},
   "outputs": [],
   "source": [
    "# Matriz de Confusión para el modelo mejorado\n",
    "y_pred = model_mejorado.predict(x_test)\n",
    "y_pred_classes = np.argmax(y_pred, axis=1)\n",
    "conf_mtx = confusion_matrix(y_test, y_pred_classes)\n",
    "\n",
    "plt.figure(figsize=(10,8))\n",
    "sns.heatmap(conf_mtx, annot=True, fmt='d', cmap='Blues')\n",
    "plt.xlabel('Etiqueta Predicha')\n",
    "plt.ylabel('Etiqueta Verdadera')\n",
    "plt.title('Matriz de Confusión del Modelo Mejorado')\n",
    "plt.show()"
   ]
  },
  {
   "cell_type": "code",
   "execution_count": null,
   "id": "44a5846a",
   "metadata": {},
   "outputs": [],
   "source": [
    "# Guardar el modelo mejorado\n",
    "model_mejorado.save(\"mnist_cnn_model.h5\")\n",
    "print(\"Modelo guardado como mnist_cnn_model.h5\")"
   ]
  },
  {
   "cell_type": "code",
   "execution_count": null,
   "id": "e63d5e3d",
   "metadata": {},
   "outputs": [],
   "source": [
    "# Celda para probar el modelo con una imagen PNG\n",
    "from PIL import Image\n",
    "\n",
    "# Cambia la siguiente ruta a la ubicación de tu imagen PNG\n",
    "image_path = 'ruta_a_tu_imagen.png'  \n",
    "\n",
    "try:\n",
    "    img = Image.open(image_path).convert('L').resize((28,28))\n",
    "except Exception as e:\n",
    "    print(\"Error al abrir la imagen. Asegúrate de que la ruta es correcta.\")\n",
    "else:\n",
    "    # Mostrar la imagen\n",
    "    plt.figure(figsize=(3,3))\n",
    "    plt.imshow(img, cmap='gray')\n",
    "    plt.title(\"Imagen de entrada\")\n",
    "    plt.axis(\"off\")\n",
    "    plt.show()\n",
    "\n",
    "    # Preprocesar la imagen\n",
    "    img_array = np.array(img, dtype='float32') / 255.0\n",
    "    img_array = img_array.reshape((1, 28, 28, 1))\n",
    "\n",
    "    # Realizar la predicción usando el modelo mejorado\n",
    "    pred = model_mejorado.predict(img_array)\n",
    "    pred_digit = int(np.argmax(pred, axis=1)[0])\n",
    "    print(f\"El modelo predice: {pred_digit}\")"
   ]
  }
 ],
 "metadata": {
  "kernelspec": {
   "display_name": "Python 3",
   "language": "python",
   "name": "python3"
  },
  "language_info": {
   "name": "python",
   "version": "3.8"
  }
 },
 "nbformat": 4,
 "nbformat_minor": 5
}
